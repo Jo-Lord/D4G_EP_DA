{
  "cells": [
    {
      "cell_type": "code",
      "execution_count": 1,
      "metadata": {
        "id": "U45OYgEpdTw_"
      },
      "outputs": [],
      "source": [
        "import pandas as pd\n",
        "from datetime import datetime, timedelta\n",
        "import plotly.express as px"
      ]
    },
    {
      "cell_type": "code",
      "execution_count": 2,
      "metadata": {
        "colab": {
          "base_uri": "https://localhost:8080/"
        },
        "id": "V7YpQbupHgQs",
        "outputId": "481ab589-b4da-4b98-82b0-cce5a830017e"
      },
      "outputs": [
        {
          "output_type": "stream",
          "name": "stdout",
          "text": [
            "Mounted at /content/drive\n"
          ]
        }
      ],
      "source": [
        "from google.colab import drive\n",
        "drive.mount('/content/drive')"
      ]
    },
    {
      "cell_type": "code",
      "execution_count": 3,
      "metadata": {
        "colab": {
          "base_uri": "https://localhost:8080/"
        },
        "id": "bDpOYHpCdXQz",
        "outputId": "597675b4-e7c0-4fd7-af9f-eeb15e57f82a"
      },
      "outputs": [
        {
          "output_type": "stream",
          "name": "stderr",
          "text": [
            "<ipython-input-3-a6b997ab3013>:1: DtypeWarning: Columns (1,2,7,8,14,17,18) have mixed types. Specify dtype option on import or set low_memory=False.\n",
            "  df_mp=pd.read_csv(\"/content/drive/MyDrive/D4G/SAISON 13 ECLAIREUR PUBLIC/marches_publics_normalized_data.csv\",sep=\";\",encoding='utf-8',escapechar='\\\\')\n"
          ]
        }
      ],
      "source": [
        "df_mp=pd.read_csv(\"/content/drive/MyDrive/D4G/SAISON 13 ECLAIREUR PUBLIC/marches_publics_normalized_data.csv\",sep=\";\",encoding='utf-8',escapechar='\\\\')"
      ]
    },
    {
      "cell_type": "code",
      "execution_count": 4,
      "metadata": {
        "id": "asULmC5Ej4FN"
      },
      "outputs": [],
      "source": [
        "# Modification du format des colonnes date\n",
        "# errors='coerce' will set invalid dates to Nat (Not a time)\n",
        "# format='%Y-%m-%d' explicitly specifies the date format\n",
        "df_mp['datenotification']=pd.to_datetime(df_mp['datenotification'], errors='coerce', format='%Y-%m-%d')\n",
        "df_mp['datepublicationdonnees']=pd.to_datetime(df_mp['datepublicationdonnees'], errors='coerce', format='%Y-%m-%d')"
      ]
    },
    {
      "cell_type": "code",
      "execution_count": 5,
      "metadata": {
        "id": "3JuAii-DBFDV"
      },
      "outputs": [],
      "source": [
        "#Je convertis l'ensemble des montants en valeur absolue\n",
        "#Je leur donne le type float\n",
        "df_mp['montant']=df_mp['montant'].abs()\n",
        "df_mp['montant']=df_mp['montant'].astype(float)"
      ]
    },
    {
      "cell_type": "code",
      "execution_count": 6,
      "metadata": {
        "id": "r4oazEwY6zfw"
      },
      "outputs": [],
      "source": [
        " #Création d'une nouvelle colonne qui indique si la déclaration est obligatoire.\n",
        " # Le critère est le montant du marché public. Tous les marchés publics d'un montant supérieur à 40 000 euros doivent être publiés sur le site (depuis 2020)\n",
        " df_mp['obligation_publication'] = pd.cut(\n",
        "        df_mp['montant'],\n",
        "        bins=[-float('inf'), 40000, float('inf')],\n",
        "        labels=['Optionnel', 'Obligatoire'],\n",
        "        right=False)"
      ]
    },
    {
      "cell_type": "code",
      "source": [
        "# Calule du nombre de jours entre la date de notification et la date de publication des données\n",
        "df_mp['nbjours']=df_mp['datepublicationdonnees']-df_mp['datenotification']\n",
        "df_mp['nbjours']=df_mp['nbjours'].fillna('0 days')\n",
        "df_mp['nbjours'] = df_mp['nbjours'].dt.days.astype('int32')"
      ],
      "metadata": {
        "id": "Crq1n8CNpnYs"
      },
      "execution_count": 7,
      "outputs": []
    },
    {
      "cell_type": "code",
      "execution_count": 8,
      "metadata": {
        "id": "5xJ2BB0PsWNL"
      },
      "outputs": [],
      "source": [
        "#Création d'une colonne avec l'année de la date de notification afin de créer des datasets\n",
        "# et des agrégations par année\n",
        "\n",
        "df_mp['annee']=df_mp['datenotification'].dt.year\n",
        "df_mp['annee']=df_mp['annee'].fillna(0).astype(int)"
      ]
    },
    {
      "cell_type": "code",
      "source": [
        "# Je veux supprimer les lignes où le nom de l'acheteur est vide\n",
        "df_mp=df_mp.dropna(subset=['acheteur_nom'])"
      ],
      "metadata": {
        "id": "n_mAnyrsl4Ic"
      },
      "execution_count": 9,
      "outputs": []
    },
    {
      "cell_type": "code",
      "source": [
        "# Je supprime toutes les lignes dont les dates sont inférieures à 2018\n",
        "#annee_analyse = [2018,2019,2020,2021,2022,2023]\n",
        "#for y in liste_annee:\n",
        "#    if y not in annee_analyse:\n",
        "#      liste_annee.remove(y)\n",
        "\n",
        "df_mp_clean=df_mp[df_mp['annee']>=2018]"
      ],
      "metadata": {
        "id": "bu0ipHE6r_P6"
      },
      "execution_count": 10,
      "outputs": []
    },
    {
      "cell_type": "code",
      "source": [
        "#df_mp_clean=df_mp[df_mp['annee']>=2018]\n",
        "\n",
        "# Création d'un dictionnaire vide\n",
        "data={}\n",
        "\n",
        "# Création d'une liste vide pour pouvoir créer un dataframe à la fin avec l'ensemble des notes\n",
        "liste=[]\n",
        "\n",
        "# Création de la liste des collectivités\n",
        "liste_collectivites=df_mp_clean['acheteur_nom'].unique()\n",
        "\n",
        "\n",
        "# Création d'un dataset par collectivité\n",
        "for j in liste_collectivites:\n",
        "  j=str(j).lower()\n",
        "\n",
        "  #df=df_mp.loc[df_mp['acheteur_nom'].str.lower() ==j]\n",
        "\n",
        "  # création de la liste des années\n",
        "\n",
        "  liste_annee=sorted(df_mp_clean['annee'].unique())\n",
        "  for y in liste_annee:\n",
        "\n",
        "    # Création d'un dataset par collectivité et par année pour calculer un score de transperence par année\n",
        "\n",
        "    df=df_mp.loc[(df_mp['acheteur_nom'].str.lower()==j) & (df_mp['annee']==y)]\n",
        "\n",
        "    # Score de transparence E pour la présence Code E\n",
        "    if len(df)==0:\n",
        "      score_transparence_E=0\n",
        "    else:\n",
        "      score_transparence_E=1\n",
        "\n",
        "\n",
        "  # Score de transparence D Je compte le nombre de valeurs obligatoires = montants supérieurs à 40 000 euros\n",
        "    counts = df['obligation_publication'].value_counts()\n",
        "    if 'Obligatoire' in counts and counts['Obligatoire']> 0:\n",
        "      score_transparence_D=1\n",
        "    else:\n",
        "      score_transparence_D=0\n",
        "\n",
        "\n",
        "# Score de transparence C Je compte le nombre de valeurs optionnelles = montants inférieurs à 40 000 euros\n",
        "\n",
        "    if 'Optionnel'in counts and counts['Optionnel'] > 0:\n",
        "      score_transparence_C=1\n",
        "    else:\n",
        "      score_transparence_C=0\n",
        "      #print(score_transparence_C)\n",
        "\n",
        "\n",
        "      # Score de transpaence B pour la présence des colonnes minimum\n",
        "    # Liste des colonnes obligatoires pour le score de transparence. On supprime la colonne s'il n'y a pas de donnée dans la colonne\n",
        "    colonnes_obligatoires=('Unnamed: 0'\n",
        "                            ,'codecpv'\n",
        "                            ,'montant'\n",
        "                            ,'datenotification'\n",
        "                            ,'lieuexecution_typecode'\n",
        "                            ,'lieuexecution_code'\n",
        "                            ,'formeprix'\n",
        "                            ,'lieuexecution_nom'\n",
        "                            ,'objet'\n",
        "                            ,'nature'\n",
        "                            ,'dureemois'\n",
        "                            ,'procedure'\n",
        "                            ,'titulaires'\n",
        "                              )\n",
        "#Supression des colonnes vides faisant partie de ces colonnes obligatoires\n",
        "\n",
        "    df=df.dropna(axis='columns', how='any')\n",
        "  # Liste des colonnes présentes dans le dataset après avoir supprimé toutes les colonnes vides\n",
        "    colonnes_obligatoires_left = [col for col in df.columns if col in colonnes_obligatoires]\n",
        "# Score de complétude = 0 S'il n'y a plus de colonnes et 1 sinon\n",
        "\n",
        "    if len(colonnes_obligatoires_left) !=13 :\n",
        "      score_transparence_B=0\n",
        "    else:\n",
        "        score_transparence_B=1\n",
        "\n",
        "\n",
        "\n",
        "# Score de transparence A Nombre de mois entre la date de publication et la date de notification\n",
        "    duree_mediane= df['nbjours'].median()\n",
        "\n",
        "    if duree_mediane > 60:\n",
        "      score_transparence_A=0\n",
        "    else:\n",
        "      score_transparence_A=1\n",
        "\n",
        "# Je calcule le score total pour déduire la note finale\n",
        "    if score_transparence_E==0:\n",
        "      Score_total='E'\n",
        "    else :\n",
        "      if score_transparence_D==0:\n",
        "        Score_total='D'\n",
        "      else :\n",
        "        if score_transparence_C==0:\n",
        "          Score_total='C'\n",
        "        else :\n",
        "          if score_transparence_B==0:\n",
        "            Score_total='B'\n",
        "          else :\n",
        "            Score_total='A'\n",
        "\n",
        "    #Score_total=score_transparence_A+score_transparence_B+score_transparence_C+score_transparence_D+score_transparence_E\n",
        "\n",
        "#J'ajoute les données dans le dictionnaire\n",
        "    data={ 'collectivité' : j,\n",
        "          'année' :y,\n",
        "          'score_transparence_A' : score_transparence_A,\n",
        "          'score_transparence_B' : score_transparence_B,\n",
        "          'score_transparence_C': score_transparence_C,\n",
        "          'score_transparence_D': score_transparence_D,\n",
        "          'score_transparence_E': score_transparence_E,\n",
        "          'Score_total':Score_total\n",
        "                }\n",
        "    liste.append(data)\n",
        "\n",
        "df_score=pd.DataFrame(liste)"
      ],
      "metadata": {
        "id": "3DWiI80tS1EN"
      },
      "execution_count": 23,
      "outputs": []
    },
    {
      "cell_type": "code",
      "source": [
        "#Créer un digramme à barre avec le volume de lignes pour chaque valeur du score_total\n",
        "df_score['Score_total'].value_counts().plot(kind='bar')"
      ],
      "metadata": {
        "colab": {
          "base_uri": "https://localhost:8080/",
          "height": 468
        },
        "id": "WtG-BJ2opd6V",
        "outputId": "8a9b4f2d-5ce1-4c73-86db-29718555c142"
      },
      "execution_count": 24,
      "outputs": [
        {
          "output_type": "execute_result",
          "data": {
            "text/plain": [
              "<Axes: xlabel='Score_total'>"
            ]
          },
          "metadata": {},
          "execution_count": 24
        },
        {
          "output_type": "display_data",
          "data": {
            "text/plain": [
              "<Figure size 640x480 with 1 Axes>"
            ],
            "image/png": "[encoded data removed]"
          },
          "metadata": {}
        }
      ]
    }
  ],
  "metadata": {
    "colab": {
      "provenance": []
    },
    "kernelspec": {
      "display_name": "Python 3",
      "name": "python3"
    },
    "language_info": {
      "name": "python"
    }
  },
  "nbformat": 4,
  "nbformat_minor": 0
}